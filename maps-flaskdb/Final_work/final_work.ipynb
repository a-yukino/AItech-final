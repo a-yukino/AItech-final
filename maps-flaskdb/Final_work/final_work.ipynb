{
 "cells": [
  {
   "cell_type": "code",
   "execution_count": 19,
   "metadata": {},
   "outputs": [
    {
     "name": "stdout",
     "output_type": "stream",
     "text": [
      "Defaulting to user installation because normal site-packages is not writeable\n",
      "Requirement already satisfied: pandas in /Users/yukino/Library/Python/3.9/lib/python/site-packages (2.0.2)\n",
      "Requirement already satisfied: python-dateutil>=2.8.2 in /Users/yukino/Library/Python/3.9/lib/python/site-packages (from pandas) (2.8.2)\n",
      "Requirement already satisfied: pytz>=2020.1 in /Users/yukino/Library/Python/3.9/lib/python/site-packages (from pandas) (2023.3)\n",
      "Requirement already satisfied: tzdata>=2022.1 in /Users/yukino/Library/Python/3.9/lib/python/site-packages (from pandas) (2023.3)\n",
      "Requirement already satisfied: numpy>=1.20.3 in /Users/yukino/Library/Python/3.9/lib/python/site-packages (from pandas) (1.24.0)\n",
      "Requirement already satisfied: six>=1.5 in /Library/Developer/CommandLineTools/Library/Frameworks/Python3.framework/Versions/3.9/lib/python3.9/site-packages (from python-dateutil>=2.8.2->pandas) (1.15.0)\n"
     ]
    }
   ],
   "source": [
    "!pip install pandas"
   ]
  },
  {
   "cell_type": "code",
   "execution_count": 20,
   "metadata": {},
   "outputs": [
    {
     "name": "stdout",
     "output_type": "stream",
     "text": [
      "                        映画タイトル  喜  怒  昂  哀  好  怖  安  嫌  驚  恥\n",
      "0                マッドマックス　フュリオサ  2  1  5  1  5  4  2  2  5  1\n",
      "1                        ミッシング  0  4  2  5  2  3  1  4  3  1\n",
      "2                         基盤斬り  4  3  2  4  4  2  2  2  1  2\n",
      "3                   猿の惑星　キングダム  4  4  4  3  1  3  1  1  1  1\n",
      "4                         関心領域  1  4  2  4  3  4  1  2  2  1\n",
      "5                 青春18×2君へと続く道  5  3  3  3  4  1  2  1  2  3\n",
      "6   デッドデッドデーモンズデデデデデストラクション　後章  5  2  3  2  5  1  1  1  1  1\n",
      "7                 帰ってきた　あぶない刑事  4  2  5  2  5  2  4  1  1  2\n",
      "8      劇場版「ウマ娘　プリティダービー　新時代の扉」  4  1  5  1  5  1  3  1  1  4\n",
      "9             ボブ・マーリー　ONE LOVE  4  1  5  2  5  1  1  1  1  2\n",
      "10                     悪は存在しない  3  4  2  5  2  4  1  2  1  3\n",
      "11                     ゴジラ-1.0  4  4  5  3  4  5  1  2  4  1\n",
      "12                    鬼平犯科帳　血闘  3  2  4  1  3  3  1  1  2  1\n",
      "13              映画　からかい上手の高木さん  5  1  3  4  4  1  3  2  1  4\n",
      "14              ゴジラ×コング　新たなる帝国  2  4  5  2  1  5  1  2  1  1\n",
      "15                      バジーノイズ  5  1  3  4  4  1  4  1  1  2\n",
      "16                      トラペジウム  3  4  2  4  4  1  3  1  3  3\n",
      "17                         胸騒ぎ  2  4  3  5  2  5  1  3  4  1\n",
      "18                       湖の女たち  3  2  2  4  1  2  1  2  1  1\n",
      "19                   恋するプリテンダー  5  1  4  1  5  1  3  1  1  4\n"
     ]
    }
   ],
   "source": [
    "import pandas as pd\n",
    "from sklearn.metrics.pairwise import cosine_similarity\n",
    "import numpy as np\n",
    "import streamlit as st\n",
    "# CSVファイルのパスを指定\n",
    "file_path = '/Users/yukino/maps-flaskdb/Final_work/aitech_Finalwork.csv'\n",
    "# CSVファイルを読み込む\n",
    "data = pd.read_csv(file_path)\n",
    "df = pd.DataFrame(data)\n",
    "# データの確認\n",
    "print(df)"
   ]
  },
  {
   "cell_type": "code",
   "execution_count": 21,
   "metadata": {},
   "outputs": [],
   "source": [
    "import pandas as pd\n",
    "\n",
    "#csvファイルの読み込み\n",
    "df = pd.read_csv(\"/Users/yukino/maps-flaskdb/Final_work/aitech_Finalwork.csv\")"
   ]
  },
  {
   "cell_type": "code",
   "execution_count": 22,
   "metadata": {},
   "outputs": [
    {
     "name": "stdout",
     "output_type": "stream",
     "text": [
      "                        映画タイトル  喜  怒  昂  哀  好  怖  安  嫌  驚  恥\n",
      "0                マッドマックス　フュリオサ  2  1  5  1  5  4  2  2  5  1\n",
      "1                        ミッシング  0  4  2  5  2  3  1  4  3  1\n",
      "2                         基盤斬り  4  3  2  4  4  2  2  2  1  2\n",
      "3                   猿の惑星　キングダム  4  4  4  3  1  3  1  1  1  1\n",
      "4                         関心領域  1  4  2  4  3  4  1  2  2  1\n",
      "5                 青春18×2君へと続く道  5  3  3  3  4  1  2  1  2  3\n",
      "6   デッドデッドデーモンズデデデデデストラクション　後章  5  2  3  2  5  1  1  1  1  1\n",
      "7                 帰ってきた　あぶない刑事  4  2  5  2  5  2  4  1  1  2\n",
      "8      劇場版「ウマ娘　プリティダービー　新時代の扉」  4  1  5  1  5  1  3  1  1  4\n",
      "9             ボブ・マーリー　ONE LOVE  4  1  5  2  5  1  1  1  1  2\n",
      "10                     悪は存在しない  3  4  2  5  2  4  1  2  1  3\n",
      "11                     ゴジラ-1.0  4  4  5  3  4  5  1  2  4  1\n",
      "12                    鬼平犯科帳　血闘  3  2  4  1  3  3  1  1  2  1\n",
      "13              映画　からかい上手の高木さん  5  1  3  4  4  1  3  2  1  4\n",
      "14              ゴジラ×コング　新たなる帝国  2  4  5  2  1  5  1  2  1  1\n",
      "15                      バジーノイズ  5  1  3  4  4  1  4  1  1  2\n",
      "16                      トラペジウム  3  4  2  4  4  1  3  1  3  3\n",
      "17                         胸騒ぎ  2  4  3  5  2  5  1  3  4  1\n",
      "18                       湖の女たち  3  2  2  4  1  2  1  2  1  1\n",
      "19                   恋するプリテンダー  5  1  4  1  5  1  3  1  1  4\n"
     ]
    }
   ],
   "source": [
    "print(df)"
   ]
  },
  {
   "cell_type": "code",
   "execution_count": 23,
   "metadata": {},
   "outputs": [
    {
     "name": "stdout",
     "output_type": "stream",
     "text": [
      "/Users/yukino/maps-flaskdb/Final_work\n"
     ]
    }
   ],
   "source": [
    "import sqlite3\n",
    "!pwd"
   ]
  },
  {
   "cell_type": "code",
   "execution_count": 24,
   "metadata": {},
   "outputs": [],
   "source": [
    "#DBファイルを保存するためのファイルパス\n",
    "\n",
    "#Google colab\n",
    "path='/Users/yukino/maps-flaskdb/Final_work'\n",
    "\n",
    "#ローカル（自分のMac）\n",
    "#path = '../db/'\n",
    "\n",
    "#DBファイル名\n",
    "db_name = 'final_work.sqlite'\n",
    "\n",
    "#DBに接続する（指定したDBファイル存在しない場合は、新規に作成される）\n",
    "con = sqlite3.connect(path + db_name)\n",
    "\n",
    "#DBへの接続を閉じる\n",
    "con.close()"
   ]
  },
  {
   "cell_type": "code",
   "execution_count": 29,
   "metadata": {},
   "outputs": [],
   "source": [
    "#１. DBに接続する\n",
    "con = sqlite3.connect(path + db_name)\n",
    "#print(type(con))\n",
    "\n",
    "#２. SQLを実行するためのオブジェクトを取得\n",
    "cur = con.cursor()\n",
    "\n",
    "#３. 実行したいSQLを用意する\n",
    "#テーブルを作成するSQL\n",
    "#CREATE TABLE　テーブル名（カラム名　型, ...）;\n",
    "sql_create_table_git_hw1 = 'CREATE TABLE final_work_ai(映画タイトル,喜,怒,昂,哀,好,怖,安,嫌,驚,恥);'\n",
    "\n",
    "#４. SQLを実行する\n",
    "cur.execute(sql_create_table_git_hw1)\n",
    "\n",
    "#５. 必要があればコミットする（データ変更等があった場合）\n",
    "\n",
    "\n",
    "#６. DBへの接続を閉じる\n",
    "con.close()"
   ]
  },
  {
   "cell_type": "code",
   "execution_count": 30,
   "metadata": {},
   "outputs": [
    {
     "name": "stdout",
     "output_type": "stream",
     "text": [
      "データベースへの格納が完了しました\n"
     ]
    }
   ],
   "source": [
    "import pandas as pd\n",
    "import sqlite3\n",
    "\n",
    "# CSVファイルのパス\n",
    "csv_file_path = '/Users/yukino/maps-flaskdb/Final_work/aitech_Finalwork.csv'\n",
    "\n",
    "# データベースのパスとファイル名\n",
    "db_path = '/Users/yukino/maps-flaskdb/Final_work/database.db'\n",
    "\n",
    "# CSVファイルを読み込む（文字コードがUTF-8の場合）\n",
    "df = pd.read_csv(csv_file_path, encoding='utf-8')\n",
    "\n",
    "# データベースに接続\n",
    "con = sqlite3.connect(db_path)\n",
    "\n",
    "# SQLを実行するためのオブジェクトを取得\n",
    "cur = con.cursor()\n",
    "\n",
    "# テーブルが存在しない場合は作成する\n",
    "cur.execute('''\n",
    "    CREATE TABLE IF NOT EXISTS final_work_ai(\n",
    "        id INTEGER PRIMARY KEY AUTOINCREMENT,\n",
    "        title TEXT,\n",
    "        happy INTEGER,\n",
    "        angry INTEGER,\n",
    "        up INTEGER,\n",
    "        sard INTEGER,\n",
    "        like INTEGER,\n",
    "        scare INTEGER,\n",
    "        luh INTEGER,\n",
    "        no INTEGER,\n",
    "        surp INTEGER,\n",
    "        emba INTEGER\n",
    "    )\n",
    "''')\n",
    "\n",
    "# データを挿入するSQLを用意\n",
    "sql_insert_many = \"\"\"\n",
    "    INSERT INTO final_work_ai(title, happy, angry, up, sard, like, scare, luh, no, surp, emba) \n",
    "    VALUES (?, ?, ?, ?, ?, ?, ?, ?, ?, ?, ?)\n",
    "\"\"\"\n",
    "\n",
    "# データフレームの各行をデータベースに挿入\n",
    "for index, row in df.iterrows():\n",
    "    title = row[\"映画タイトル\"]\n",
    "    happy = row[\"喜\"]\n",
    "    angry = row[\"怒\"]\n",
    "    up = row[\"昂\"]\n",
    "    sard = row[\"哀\"]\n",
    "    like = row[\"好\"]\n",
    "    scare = row[\"怖\"]\n",
    "    luh = row[\"安\"]\n",
    "    no = row[\"嫌\"]\n",
    "    surp = row[\"驚\"]\n",
    "    emba = row[\"恥\"]\n",
    "\n",
    "    cur.execute(sql_insert_many, (title, happy, angry, up, sard, like, scare, luh, no, surp, emba))\n",
    "\n",
    "# コミット処理（データ操作を反映させる）\n",
    "con.commit()\n",
    "\n",
    "# DBへの接続を閉じる\n",
    "con.close()\n",
    "\n",
    "print(\"データベースへの格納が完了しました\")\n"
   ]
  },
  {
   "cell_type": "code",
   "execution_count": 3,
   "metadata": {},
   "outputs": [
    {
     "name": "stdout",
     "output_type": "stream",
     "text": [
      "データベースへの格納が完了しました\n",
      "おすすめの映画: 劇場版「ウマ娘　プリティダービー　新時代の扉」\n"
     ]
    }
   ],
   "source": [
    "import pandas as pd\n",
    "import numpy as np\n",
    "import sqlite3\n",
    "from sklearn.metrics.pairwise import cosine_similarity\n",
    "\n",
    "# CSVファイルのパス\n",
    "csv_file_path = '/Users/yukino/maps-flaskdb/Final_work/aitech_Finalwork.csv'\n",
    "\n",
    "# データベースのパス\n",
    "db_path = '/Users/yukino/maps-flaskdb/Final_work/database.db'\n",
    "\n",
    "# CSVファイルを読み込む\n",
    "df = pd.read_csv(csv_file_path)\n",
    "\n",
    "# データベースに接続\n",
    "con = sqlite3.connect(db_path)\n",
    "\n",
    "# SQLを実行するためのオブジェクトを取得\n",
    "cur = con.cursor()\n",
    "\n",
    "# NaNを含む行がないか確認\n",
    "if df.isnull().values.any():\n",
    "    print(\"NaN values found in the DataFrame. Replacing NaN values with 0.\")\n",
    "    df.fillna(0, inplace=True)\n",
    "\n",
    "# データを挿入するSQLを用意\n",
    "sql_insert_many = \"\"\"\n",
    "    INSERT INTO final_work_ai(title, happy, angry, up, sard, like, scare, luh, no, surp, emba) \n",
    "    VALUES (?, ?, ?, ?, ?, ?, ?, ?, ?, ?, ?)\n",
    "\"\"\"\n",
    "\n",
    "# データフレームの各行をデータベースに挿入\n",
    "for index, row in df.iterrows():\n",
    "    title = row[\"映画タイトル\"]\n",
    "    happy = row[\"喜\"]\n",
    "    angry = row[\"怒\"]\n",
    "    up = row[\"昂\"]\n",
    "    sard = row[\"哀\"]\n",
    "    like = row[\"好\"]\n",
    "    scare = row[\"怖\"]\n",
    "    luh = row[\"安\"]\n",
    "    no = row[\"嫌\"]\n",
    "    surp = row[\"驚\"]\n",
    "    emba = row[\"恥\"]\n",
    "\n",
    "    cur.execute(sql_insert_many, (title, happy, angry, up, sard, like, scare, luh, no, surp, emba))\n",
    "\n",
    "# コミット処理（データ操作を反映させる）\n",
    "con.commit()\n",
    "\n",
    "# DBへの接続を閉じる\n",
    "con.close()\n",
    "\n",
    "print(\"データベースへの格納が完了しました\")\n",
    "\n",
    "# 検索する感情のリスト\n",
    "answer_list = [2, 3, 4, 1, 5, 2, 3, 4, 1, 5]\n",
    "\n",
    "# データベースに再度接続し、データを読み込む\n",
    "con = sqlite3.connect(db_path)\n",
    "cur = con.cursor()\n",
    "\n",
    "# データを読み込む\n",
    "cur.execute(\"SELECT happy, angry, up, sard, like, scare, luh, no, surp, emba FROM final_work_ai\")\n",
    "rows = cur.fetchall()\n",
    "\n",
    "# リストからデータフレームに変換\n",
    "features = np.array(rows)\n",
    "\n",
    "# NaNを含む行がないか確認し、あれば0で埋める\n",
    "if np.isnan(features).any():\n",
    "    print(\"NaN values found in the features array. Replacing NaN values with 0.\")\n",
    "    features = np.nan_to_num(features)\n",
    "\n",
    "# コサイン類似度を計算\n",
    "similarity = cosine_similarity([answer_list], features)[0]\n",
    "\n",
    "# 最も類似度の高い映画を見つける\n",
    "most_similar_index = similarity.argmax()\n",
    "print(f\"おすすめの映画: {df.iloc[most_similar_index]['映画タイトル']}\")\n",
    "\n",
    "# DBへの接続を閉じる\n",
    "con.close()\n"
   ]
  },
  {
   "cell_type": "code",
   "execution_count": null,
   "metadata": {},
   "outputs": [],
   "source": []
  }
 ],
 "metadata": {
  "kernelspec": {
   "display_name": "Python 3",
   "language": "python",
   "name": "python3"
  },
  "language_info": {
   "codemirror_mode": {
    "name": "ipython",
    "version": 3
   },
   "file_extension": ".py",
   "mimetype": "text/x-python",
   "name": "python",
   "nbconvert_exporter": "python",
   "pygments_lexer": "ipython3",
   "version": "3.9.6"
  }
 },
 "nbformat": 4,
 "nbformat_minor": 2
}
